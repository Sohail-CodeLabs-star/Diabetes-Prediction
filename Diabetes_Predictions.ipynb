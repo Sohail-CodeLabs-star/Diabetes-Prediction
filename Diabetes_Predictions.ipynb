{
  "nbformat": 4,
  "nbformat_minor": 0,
  "metadata": {
    "colab": {
      "name": "Diabetes Predictions.ipynb",
      "provenance": [],
      "collapsed_sections": []
    },
    "kernelspec": {
      "name": "python3",
      "display_name": "Python 3"
    }
  },
  "cells": [
    {
      "cell_type": "code",
      "metadata": {
        "id": "v9eBUjAN8NZY"
      },
      "source": [
        "import pandas as pd\r\n",
        "import numpy as np"
      ],
      "execution_count": 1,
      "outputs": []
    },
    {
      "cell_type": "code",
      "metadata": {
        "id": "NUl8es7PI7v4"
      },
      "source": [
        "import warnings\r\n",
        "warnings.filterwarnings('ignore')"
      ],
      "execution_count": 2,
      "outputs": []
    },
    {
      "cell_type": "markdown",
      "metadata": {
        "id": "qu4kUDHF8dya"
      },
      "source": [
        "**Loading the data**"
      ]
    },
    {
      "cell_type": "code",
      "metadata": {
        "colab": {
          "base_uri": "https://localhost:8080/",
          "height": 473
        },
        "id": "B0hnZRKI8X8y",
        "outputId": "990b29e7-30c6-4b19-c026-4bff3c1c94d4"
      },
      "source": [
        "data = pd.read_csv(\"diabetes_data_upload.csv\")\r\n",
        "data"
      ],
      "execution_count": 3,
      "outputs": [
        {
          "output_type": "execute_result",
          "data": {
            "text/html": [
              "<div>\n",
              "<style scoped>\n",
              "    .dataframe tbody tr th:only-of-type {\n",
              "        vertical-align: middle;\n",
              "    }\n",
              "\n",
              "    .dataframe tbody tr th {\n",
              "        vertical-align: top;\n",
              "    }\n",
              "\n",
              "    .dataframe thead th {\n",
              "        text-align: right;\n",
              "    }\n",
              "</style>\n",
              "<table border=\"1\" class=\"dataframe\">\n",
              "  <thead>\n",
              "    <tr style=\"text-align: right;\">\n",
              "      <th></th>\n",
              "      <th>Age</th>\n",
              "      <th>Gender</th>\n",
              "      <th>Polyuria</th>\n",
              "      <th>Polydipsia</th>\n",
              "      <th>sudden weight loss</th>\n",
              "      <th>weakness</th>\n",
              "      <th>Polyphagia</th>\n",
              "      <th>Genital thrush</th>\n",
              "      <th>visual blurring</th>\n",
              "      <th>Itching</th>\n",
              "      <th>Irritability</th>\n",
              "      <th>delayed healing</th>\n",
              "      <th>partial paresis</th>\n",
              "      <th>muscle stiffness</th>\n",
              "      <th>Alopecia</th>\n",
              "      <th>Obesity</th>\n",
              "      <th>class</th>\n",
              "    </tr>\n",
              "  </thead>\n",
              "  <tbody>\n",
              "    <tr>\n",
              "      <th>0</th>\n",
              "      <td>40</td>\n",
              "      <td>Male</td>\n",
              "      <td>No</td>\n",
              "      <td>Yes</td>\n",
              "      <td>No</td>\n",
              "      <td>Yes</td>\n",
              "      <td>No</td>\n",
              "      <td>No</td>\n",
              "      <td>No</td>\n",
              "      <td>Yes</td>\n",
              "      <td>No</td>\n",
              "      <td>Yes</td>\n",
              "      <td>No</td>\n",
              "      <td>Yes</td>\n",
              "      <td>Yes</td>\n",
              "      <td>Yes</td>\n",
              "      <td>Positive</td>\n",
              "    </tr>\n",
              "    <tr>\n",
              "      <th>1</th>\n",
              "      <td>58</td>\n",
              "      <td>Male</td>\n",
              "      <td>No</td>\n",
              "      <td>No</td>\n",
              "      <td>No</td>\n",
              "      <td>Yes</td>\n",
              "      <td>No</td>\n",
              "      <td>No</td>\n",
              "      <td>Yes</td>\n",
              "      <td>No</td>\n",
              "      <td>No</td>\n",
              "      <td>No</td>\n",
              "      <td>Yes</td>\n",
              "      <td>No</td>\n",
              "      <td>Yes</td>\n",
              "      <td>No</td>\n",
              "      <td>Positive</td>\n",
              "    </tr>\n",
              "    <tr>\n",
              "      <th>2</th>\n",
              "      <td>41</td>\n",
              "      <td>Male</td>\n",
              "      <td>Yes</td>\n",
              "      <td>No</td>\n",
              "      <td>No</td>\n",
              "      <td>Yes</td>\n",
              "      <td>Yes</td>\n",
              "      <td>No</td>\n",
              "      <td>No</td>\n",
              "      <td>Yes</td>\n",
              "      <td>No</td>\n",
              "      <td>Yes</td>\n",
              "      <td>No</td>\n",
              "      <td>Yes</td>\n",
              "      <td>Yes</td>\n",
              "      <td>No</td>\n",
              "      <td>Positive</td>\n",
              "    </tr>\n",
              "    <tr>\n",
              "      <th>3</th>\n",
              "      <td>45</td>\n",
              "      <td>Male</td>\n",
              "      <td>No</td>\n",
              "      <td>No</td>\n",
              "      <td>Yes</td>\n",
              "      <td>Yes</td>\n",
              "      <td>Yes</td>\n",
              "      <td>Yes</td>\n",
              "      <td>No</td>\n",
              "      <td>Yes</td>\n",
              "      <td>No</td>\n",
              "      <td>Yes</td>\n",
              "      <td>No</td>\n",
              "      <td>No</td>\n",
              "      <td>No</td>\n",
              "      <td>No</td>\n",
              "      <td>Positive</td>\n",
              "    </tr>\n",
              "    <tr>\n",
              "      <th>4</th>\n",
              "      <td>60</td>\n",
              "      <td>Male</td>\n",
              "      <td>Yes</td>\n",
              "      <td>Yes</td>\n",
              "      <td>Yes</td>\n",
              "      <td>Yes</td>\n",
              "      <td>Yes</td>\n",
              "      <td>No</td>\n",
              "      <td>Yes</td>\n",
              "      <td>Yes</td>\n",
              "      <td>Yes</td>\n",
              "      <td>Yes</td>\n",
              "      <td>Yes</td>\n",
              "      <td>Yes</td>\n",
              "      <td>Yes</td>\n",
              "      <td>Yes</td>\n",
              "      <td>Positive</td>\n",
              "    </tr>\n",
              "    <tr>\n",
              "      <th>...</th>\n",
              "      <td>...</td>\n",
              "      <td>...</td>\n",
              "      <td>...</td>\n",
              "      <td>...</td>\n",
              "      <td>...</td>\n",
              "      <td>...</td>\n",
              "      <td>...</td>\n",
              "      <td>...</td>\n",
              "      <td>...</td>\n",
              "      <td>...</td>\n",
              "      <td>...</td>\n",
              "      <td>...</td>\n",
              "      <td>...</td>\n",
              "      <td>...</td>\n",
              "      <td>...</td>\n",
              "      <td>...</td>\n",
              "      <td>...</td>\n",
              "    </tr>\n",
              "    <tr>\n",
              "      <th>515</th>\n",
              "      <td>39</td>\n",
              "      <td>Female</td>\n",
              "      <td>Yes</td>\n",
              "      <td>Yes</td>\n",
              "      <td>Yes</td>\n",
              "      <td>No</td>\n",
              "      <td>Yes</td>\n",
              "      <td>No</td>\n",
              "      <td>No</td>\n",
              "      <td>Yes</td>\n",
              "      <td>No</td>\n",
              "      <td>Yes</td>\n",
              "      <td>Yes</td>\n",
              "      <td>No</td>\n",
              "      <td>No</td>\n",
              "      <td>No</td>\n",
              "      <td>Positive</td>\n",
              "    </tr>\n",
              "    <tr>\n",
              "      <th>516</th>\n",
              "      <td>48</td>\n",
              "      <td>Female</td>\n",
              "      <td>Yes</td>\n",
              "      <td>Yes</td>\n",
              "      <td>Yes</td>\n",
              "      <td>Yes</td>\n",
              "      <td>Yes</td>\n",
              "      <td>No</td>\n",
              "      <td>No</td>\n",
              "      <td>Yes</td>\n",
              "      <td>Yes</td>\n",
              "      <td>Yes</td>\n",
              "      <td>Yes</td>\n",
              "      <td>No</td>\n",
              "      <td>No</td>\n",
              "      <td>No</td>\n",
              "      <td>Positive</td>\n",
              "    </tr>\n",
              "    <tr>\n",
              "      <th>517</th>\n",
              "      <td>58</td>\n",
              "      <td>Female</td>\n",
              "      <td>Yes</td>\n",
              "      <td>Yes</td>\n",
              "      <td>Yes</td>\n",
              "      <td>Yes</td>\n",
              "      <td>Yes</td>\n",
              "      <td>No</td>\n",
              "      <td>Yes</td>\n",
              "      <td>No</td>\n",
              "      <td>No</td>\n",
              "      <td>No</td>\n",
              "      <td>Yes</td>\n",
              "      <td>Yes</td>\n",
              "      <td>No</td>\n",
              "      <td>Yes</td>\n",
              "      <td>Positive</td>\n",
              "    </tr>\n",
              "    <tr>\n",
              "      <th>518</th>\n",
              "      <td>32</td>\n",
              "      <td>Female</td>\n",
              "      <td>No</td>\n",
              "      <td>No</td>\n",
              "      <td>No</td>\n",
              "      <td>Yes</td>\n",
              "      <td>No</td>\n",
              "      <td>No</td>\n",
              "      <td>Yes</td>\n",
              "      <td>Yes</td>\n",
              "      <td>No</td>\n",
              "      <td>Yes</td>\n",
              "      <td>No</td>\n",
              "      <td>No</td>\n",
              "      <td>Yes</td>\n",
              "      <td>No</td>\n",
              "      <td>Negative</td>\n",
              "    </tr>\n",
              "    <tr>\n",
              "      <th>519</th>\n",
              "      <td>42</td>\n",
              "      <td>Male</td>\n",
              "      <td>No</td>\n",
              "      <td>No</td>\n",
              "      <td>No</td>\n",
              "      <td>No</td>\n",
              "      <td>No</td>\n",
              "      <td>No</td>\n",
              "      <td>No</td>\n",
              "      <td>No</td>\n",
              "      <td>No</td>\n",
              "      <td>No</td>\n",
              "      <td>No</td>\n",
              "      <td>No</td>\n",
              "      <td>No</td>\n",
              "      <td>No</td>\n",
              "      <td>Negative</td>\n",
              "    </tr>\n",
              "  </tbody>\n",
              "</table>\n",
              "<p>520 rows × 17 columns</p>\n",
              "</div>"
            ],
            "text/plain": [
              "     Age  Gender Polyuria  ... Alopecia Obesity     class\n",
              "0     40    Male       No  ...      Yes     Yes  Positive\n",
              "1     58    Male       No  ...      Yes      No  Positive\n",
              "2     41    Male      Yes  ...      Yes      No  Positive\n",
              "3     45    Male       No  ...       No      No  Positive\n",
              "4     60    Male      Yes  ...      Yes     Yes  Positive\n",
              "..   ...     ...      ...  ...      ...     ...       ...\n",
              "515   39  Female      Yes  ...       No      No  Positive\n",
              "516   48  Female      Yes  ...       No      No  Positive\n",
              "517   58  Female      Yes  ...       No     Yes  Positive\n",
              "518   32  Female       No  ...      Yes      No  Negative\n",
              "519   42    Male       No  ...       No      No  Negative\n",
              "\n",
              "[520 rows x 17 columns]"
            ]
          },
          "metadata": {
            "tags": []
          },
          "execution_count": 3
        }
      ]
    },
    {
      "cell_type": "markdown",
      "metadata": {
        "id": "cXZwRbGX8nhK"
      },
      "source": [
        "**Saving a copy of the data**"
      ]
    },
    {
      "cell_type": "code",
      "metadata": {
        "id": "x6z372Yx8cs2"
      },
      "source": [
        "data_copy = data.copy()"
      ],
      "execution_count": 4,
      "outputs": []
    },
    {
      "cell_type": "markdown",
      "metadata": {
        "id": "9l7DYwV_8uF6"
      },
      "source": [
        "**Data Processing**"
      ]
    },
    {
      "cell_type": "markdown",
      "metadata": {
        "id": "N4ozj8Il83Bp"
      },
      "source": [
        "checking for null values"
      ]
    },
    {
      "cell_type": "code",
      "metadata": {
        "colab": {
          "base_uri": "https://localhost:8080/"
        },
        "id": "Qypo0egW8sQp",
        "outputId": "7892ecc6-3eba-4a4d-d17f-e7d0738cd85f"
      },
      "source": [
        "data.isnull().sum().any()"
      ],
      "execution_count": 5,
      "outputs": [
        {
          "output_type": "execute_result",
          "data": {
            "text/plain": [
              "False"
            ]
          },
          "metadata": {
            "tags": []
          },
          "execution_count": 5
        }
      ]
    },
    {
      "cell_type": "markdown",
      "metadata": {
        "id": "HXZPZi0qGFM1"
      },
      "source": [
        "Encoding categorical data to numeric data"
      ]
    },
    {
      "cell_type": "code",
      "metadata": {
        "colab": {
          "base_uri": "https://localhost:8080/"
        },
        "id": "YwElqkAgGhCj",
        "outputId": "aecec9f7-5197-407b-f6bd-8236160504bc"
      },
      "source": [
        "data['class'].unique()"
      ],
      "execution_count": 6,
      "outputs": [
        {
          "output_type": "execute_result",
          "data": {
            "text/plain": [
              "array(['Positive', 'Negative'], dtype=object)"
            ]
          },
          "metadata": {
            "tags": []
          },
          "execution_count": 6
        }
      ]
    },
    {
      "cell_type": "code",
      "metadata": {
        "id": "G1UFzVDU85_0"
      },
      "source": [
        "yes_no_cols = data.columns.drop(['Age', 'Gender', 'class', 'Polyuria'])"
      ],
      "execution_count": 7,
      "outputs": []
    },
    {
      "cell_type": "code",
      "metadata": {
        "id": "JedNulDGGepL"
      },
      "source": [
        "gender_mapping = {'Male':0, 'Female':1}\r\n",
        "yes_no_mappping = {'Yes':1, 'No':0}\r\n",
        "class_mapping = {'Positive':1, 'Negative':0}"
      ],
      "execution_count": 8,
      "outputs": []
    },
    {
      "cell_type": "code",
      "metadata": {
        "id": "_ToqpnCVG8QI"
      },
      "source": [
        "data['Gender'] = data['Gender'].map(gender_mapping)\r\n",
        "data['class'] = data['class'].map(class_mapping)"
      ],
      "execution_count": 9,
      "outputs": []
    },
    {
      "cell_type": "code",
      "metadata": {
        "id": "Hv5Lwx9bHLzx"
      },
      "source": [
        "from sklearn.preprocessing import LabelEncoder"
      ],
      "execution_count": 10,
      "outputs": []
    },
    {
      "cell_type": "code",
      "metadata": {
        "id": "TRZXlxrOHfNY"
      },
      "source": [
        "le = LabelEncoder()\r\n",
        "data['Polyuria'] = le.fit_transform(data['Polyuria'])"
      ],
      "execution_count": 11,
      "outputs": []
    },
    {
      "cell_type": "code",
      "metadata": {
        "id": "xia1EDIqHVfb"
      },
      "source": [
        "for col in yes_no_cols:\r\n",
        "  data[col] = le.transform(data[col])"
      ],
      "execution_count": 12,
      "outputs": []
    },
    {
      "cell_type": "markdown",
      "metadata": {
        "id": "mGpfNIq5JEGL"
      },
      "source": [
        "Feature selection"
      ]
    },
    {
      "cell_type": "code",
      "metadata": {
        "id": "evaU0fI2JXhx"
      },
      "source": [
        "X, y = data.drop('class', axis=1), data['class']"
      ],
      "execution_count": 13,
      "outputs": []
    },
    {
      "cell_type": "code",
      "metadata": {
        "id": "WL-24iEbJGHa"
      },
      "source": [
        "from sklearn.feature_selection import SelectKBest, chi2"
      ],
      "execution_count": 14,
      "outputs": []
    },
    {
      "cell_type": "code",
      "metadata": {
        "id": "5IBaWEFCJLJp"
      },
      "source": [
        "selector = SelectKBest(chi2, k=10)\r\n",
        "X_new = selector.fit_transform(X, y)"
      ],
      "execution_count": 17,
      "outputs": []
    },
    {
      "cell_type": "code",
      "metadata": {
        "colab": {
          "base_uri": "https://localhost:8080/"
        },
        "id": "KfyLfayIJpGq",
        "outputId": "9b084bd0-5f31-47fe-e1e1-d0cceb95325b"
      },
      "source": [
        "selector.get_support()"
      ],
      "execution_count": 32,
      "outputs": [
        {
          "output_type": "execute_result",
          "data": {
            "text/plain": [
              "array([ True,  True,  True,  True,  True, False,  True, False,  True,\n",
              "       False,  True, False,  True, False,  True, False])"
            ]
          },
          "metadata": {
            "tags": []
          },
          "execution_count": 32
        }
      ]
    },
    {
      "cell_type": "code",
      "metadata": {
        "id": "LybYHBVDKf7W"
      },
      "source": [
        "X_new = data[['Age', 'Gender', 'Polyuria', 'Polydipsia', 'sudden weight loss',\r\n",
        "       'Polyphagia', 'visual blurring', 'Irritability', 'partial paresis',\r\n",
        "       'Alopecia']]\r\n",
        "\r\n",
        "y_new = data['class']"
      ],
      "execution_count": 21,
      "outputs": []
    },
    {
      "cell_type": "markdown",
      "metadata": {
        "id": "5mHymFOGH84d"
      },
      "source": [
        "Checking for class imbalance"
      ]
    },
    {
      "cell_type": "code",
      "metadata": {
        "id": "9v9v222mH062"
      },
      "source": [
        "import matplotlib.pyplot as plt\r\n",
        "import seaborn as sns"
      ],
      "execution_count": 22,
      "outputs": []
    },
    {
      "cell_type": "code",
      "metadata": {
        "colab": {
          "base_uri": "https://localhost:8080/",
          "height": 296
        },
        "id": "7RMmXRsjIIiE",
        "outputId": "c4f06fbc-f351-41cc-f474-5dc36bb8d8bc"
      },
      "source": [
        "sns.countplot(y_new)"
      ],
      "execution_count": 23,
      "outputs": [
        {
          "output_type": "execute_result",
          "data": {
            "text/plain": [
              "<matplotlib.axes._subplots.AxesSubplot at 0x7f7aa3a6f780>"
            ]
          },
          "metadata": {
            "tags": []
          },
          "execution_count": 23
        },
        {
          "output_type": "display_data",
          "data": {
            "image/png": "[encoded data removed]",
            "text/plain": [
              "<Figure size 432x288 with 1 Axes>"
            ]
          },
          "metadata": {
            "tags": [],
            "needs_background": "light"
          }
        }
      ]
    },
    {
      "cell_type": "code",
      "metadata": {
        "id": "nQNF726IIJv2"
      },
      "source": [
        "from imblearn.over_sampling import SMOTE"
      ],
      "execution_count": 24,
      "outputs": []
    },
    {
      "cell_type": "code",
      "metadata": {
        "id": "J0xEPSuEIO3N"
      },
      "source": [
        "smote = SMOTE(random_state=56)\r\n",
        "\r\n",
        "X, y = smote.fit_resample(X_new, y_new)"
      ],
      "execution_count": 25,
      "outputs": []
    },
    {
      "cell_type": "code",
      "metadata": {
        "colab": {
          "base_uri": "https://localhost:8080/",
          "height": 282
        },
        "id": "KP4S4_OVIU4I",
        "outputId": "8e049de9-ccf8-406c-f97a-81590e038229"
      },
      "source": [
        "sns.countplot(y)"
      ],
      "execution_count": 26,
      "outputs": [
        {
          "output_type": "execute_result",
          "data": {
            "text/plain": [
              "<matplotlib.axes._subplots.AxesSubplot at 0x7f7aa351aba8>"
            ]
          },
          "metadata": {
            "tags": []
          },
          "execution_count": 26
        },
        {
          "output_type": "display_data",
          "data": {
            "image/png": "[encoded data removed]",
            "text/plain": [
              "<Figure size 432x288 with 1 Axes>"
            ]
          },
          "metadata": {
            "tags": [],
            "needs_background": "light"
          }
        }
      ]
    },
    {
      "cell_type": "code",
      "metadata": {
        "id": "zyiMi0opK-t0"
      },
      "source": [
        "X = pd.DataFrame(X, columns=['Age', 'Gender', 'Polyuria', 'Polydipsia', 'sudden weight loss',\r\n",
        "       'Polyphagia', 'visual blurring', 'Irritability', 'partial paresis',\r\n",
        "       'Alopecia'])"
      ],
      "execution_count": 30,
      "outputs": []
    },
    {
      "cell_type": "markdown",
      "metadata": {
        "id": "dWrT2VKSKwRk"
      },
      "source": [
        "**EDA**"
      ]
    },
    {
      "cell_type": "code",
      "metadata": {
        "colab": {
          "base_uri": "https://localhost:8080/",
          "height": 436
        },
        "id": "7pPag-FxLIPd",
        "outputId": "8d941303-447d-43a5-d82f-f4a1150213e8"
      },
      "source": [
        "X"
      ],
      "execution_count": 31,
      "outputs": [
        {
          "output_type": "execute_result",
          "data": {
            "text/html": [
              "<div>\n",
              "<style scoped>\n",
              "    .dataframe tbody tr th:only-of-type {\n",
              "        vertical-align: middle;\n",
              "    }\n",
              "\n",
              "    .dataframe tbody tr th {\n",
              "        vertical-align: top;\n",
              "    }\n",
              "\n",
              "    .dataframe thead th {\n",
              "        text-align: right;\n",
              "    }\n",
              "</style>\n",
              "<table border=\"1\" class=\"dataframe\">\n",
              "  <thead>\n",
              "    <tr style=\"text-align: right;\">\n",
              "      <th></th>\n",
              "      <th>Age</th>\n",
              "      <th>Gender</th>\n",
              "      <th>Polyuria</th>\n",
              "      <th>Polydipsia</th>\n",
              "      <th>sudden weight loss</th>\n",
              "      <th>Polyphagia</th>\n",
              "      <th>visual blurring</th>\n",
              "      <th>Irritability</th>\n",
              "      <th>partial paresis</th>\n",
              "      <th>Alopecia</th>\n",
              "    </tr>\n",
              "  </thead>\n",
              "  <tbody>\n",
              "    <tr>\n",
              "      <th>0</th>\n",
              "      <td>40</td>\n",
              "      <td>0</td>\n",
              "      <td>0</td>\n",
              "      <td>1</td>\n",
              "      <td>0</td>\n",
              "      <td>0</td>\n",
              "      <td>0</td>\n",
              "      <td>0</td>\n",
              "      <td>0</td>\n",
              "      <td>1</td>\n",
              "    </tr>\n",
              "    <tr>\n",
              "      <th>1</th>\n",
              "      <td>58</td>\n",
              "      <td>0</td>\n",
              "      <td>0</td>\n",
              "      <td>0</td>\n",
              "      <td>0</td>\n",
              "      <td>0</td>\n",
              "      <td>1</td>\n",
              "      <td>0</td>\n",
              "      <td>1</td>\n",
              "      <td>1</td>\n",
              "    </tr>\n",
              "    <tr>\n",
              "      <th>2</th>\n",
              "      <td>41</td>\n",
              "      <td>0</td>\n",
              "      <td>1</td>\n",
              "      <td>0</td>\n",
              "      <td>0</td>\n",
              "      <td>1</td>\n",
              "      <td>0</td>\n",
              "      <td>0</td>\n",
              "      <td>0</td>\n",
              "      <td>1</td>\n",
              "    </tr>\n",
              "    <tr>\n",
              "      <th>3</th>\n",
              "      <td>45</td>\n",
              "      <td>0</td>\n",
              "      <td>0</td>\n",
              "      <td>0</td>\n",
              "      <td>1</td>\n",
              "      <td>1</td>\n",
              "      <td>0</td>\n",
              "      <td>0</td>\n",
              "      <td>0</td>\n",
              "      <td>0</td>\n",
              "    </tr>\n",
              "    <tr>\n",
              "      <th>4</th>\n",
              "      <td>60</td>\n",
              "      <td>0</td>\n",
              "      <td>1</td>\n",
              "      <td>1</td>\n",
              "      <td>1</td>\n",
              "      <td>1</td>\n",
              "      <td>1</td>\n",
              "      <td>1</td>\n",
              "      <td>1</td>\n",
              "      <td>1</td>\n",
              "    </tr>\n",
              "    <tr>\n",
              "      <th>...</th>\n",
              "      <td>...</td>\n",
              "      <td>...</td>\n",
              "      <td>...</td>\n",
              "      <td>...</td>\n",
              "      <td>...</td>\n",
              "      <td>...</td>\n",
              "      <td>...</td>\n",
              "      <td>...</td>\n",
              "      <td>...</td>\n",
              "      <td>...</td>\n",
              "    </tr>\n",
              "    <tr>\n",
              "      <th>635</th>\n",
              "      <td>67</td>\n",
              "      <td>0</td>\n",
              "      <td>1</td>\n",
              "      <td>0</td>\n",
              "      <td>0</td>\n",
              "      <td>1</td>\n",
              "      <td>1</td>\n",
              "      <td>1</td>\n",
              "      <td>0</td>\n",
              "      <td>1</td>\n",
              "    </tr>\n",
              "    <tr>\n",
              "      <th>636</th>\n",
              "      <td>56</td>\n",
              "      <td>0</td>\n",
              "      <td>0</td>\n",
              "      <td>0</td>\n",
              "      <td>0</td>\n",
              "      <td>1</td>\n",
              "      <td>1</td>\n",
              "      <td>0</td>\n",
              "      <td>0</td>\n",
              "      <td>0</td>\n",
              "    </tr>\n",
              "    <tr>\n",
              "      <th>637</th>\n",
              "      <td>40</td>\n",
              "      <td>0</td>\n",
              "      <td>0</td>\n",
              "      <td>1</td>\n",
              "      <td>1</td>\n",
              "      <td>0</td>\n",
              "      <td>1</td>\n",
              "      <td>0</td>\n",
              "      <td>1</td>\n",
              "      <td>0</td>\n",
              "    </tr>\n",
              "    <tr>\n",
              "      <th>638</th>\n",
              "      <td>53</td>\n",
              "      <td>0</td>\n",
              "      <td>0</td>\n",
              "      <td>0</td>\n",
              "      <td>0</td>\n",
              "      <td>0</td>\n",
              "      <td>1</td>\n",
              "      <td>0</td>\n",
              "      <td>0</td>\n",
              "      <td>1</td>\n",
              "    </tr>\n",
              "    <tr>\n",
              "      <th>639</th>\n",
              "      <td>53</td>\n",
              "      <td>0</td>\n",
              "      <td>0</td>\n",
              "      <td>0</td>\n",
              "      <td>0</td>\n",
              "      <td>0</td>\n",
              "      <td>1</td>\n",
              "      <td>0</td>\n",
              "      <td>0</td>\n",
              "      <td>1</td>\n",
              "    </tr>\n",
              "  </tbody>\n",
              "</table>\n",
              "<p>640 rows × 10 columns</p>\n",
              "</div>"
            ],
            "text/plain": [
              "     Age  Gender  Polyuria  ...  Irritability  partial paresis  Alopecia\n",
              "0     40       0         0  ...             0                0         1\n",
              "1     58       0         0  ...             0                1         1\n",
              "2     41       0         1  ...             0                0         1\n",
              "3     45       0         0  ...             0                0         0\n",
              "4     60       0         1  ...             1                1         1\n",
              "..   ...     ...       ...  ...           ...              ...       ...\n",
              "635   67       0         1  ...             1                0         1\n",
              "636   56       0         0  ...             0                0         0\n",
              "637   40       0         0  ...             0                1         0\n",
              "638   53       0         0  ...             0                0         1\n",
              "639   53       0         0  ...             0                0         1\n",
              "\n",
              "[640 rows x 10 columns]"
            ]
          },
          "metadata": {
            "tags": []
          },
          "execution_count": 31
        }
      ]
    },
    {
      "cell_type": "code",
      "metadata": {
        "colab": {
          "base_uri": "https://localhost:8080/",
          "height": 296
        },
        "id": "TWkClIXYKy-l",
        "outputId": "d6f36388-b26e-4b6e-f889-3044bdab43a1"
      },
      "source": [
        "sns.countplot(X['Gender'], hue=y)"
      ],
      "execution_count": 37,
      "outputs": [
        {
          "output_type": "execute_result",
          "data": {
            "text/plain": [
              "<matplotlib.axes._subplots.AxesSubplot at 0x7f7aa2fec748>"
            ]
          },
          "metadata": {
            "tags": []
          },
          "execution_count": 37
        },
        {
          "output_type": "display_data",
          "data": {
            "image/png": "[encoded data removed]",
            "text/plain": [
              "<Figure size 432x288 with 1 Axes>"
            ]
          },
          "metadata": {
            "tags": [],
            "needs_background": "light"
          }
        }
      ]
    },
    {
      "cell_type": "markdown",
      "metadata": {
        "id": "LsYceMfAIahs"
      },
      "source": [
        "**Splitting the data into training, testing and validation sets**"
      ]
    },
    {
      "cell_type": "code",
      "metadata": {
        "id": "uIFHP3wOIYTg"
      },
      "source": [
        "from sklearn.model_selection import train_test_split"
      ],
      "execution_count": 38,
      "outputs": []
    },
    {
      "cell_type": "code",
      "metadata": {
        "id": "Yxp8jr7WIiI2"
      },
      "source": [
        "x_train, x_test, y_train, y_test = train_test_split(X, y, test_size=0.2, random_state=56)\r\n",
        "\r\n",
        "x_train_, x_val, y_train_, y_val = train_test_split(x_train, y_train, test_size=0.2, random_state=56)"
      ],
      "execution_count": 39,
      "outputs": []
    },
    {
      "cell_type": "markdown",
      "metadata": {
        "id": "9R2YPxR7LwMq"
      },
      "source": [
        "**Model Selection**"
      ]
    },
    {
      "cell_type": "code",
      "metadata": {
        "id": "_DZyZnyfLt3M"
      },
      "source": [
        "from sklearn.ensemble import ExtraTreesClassifier, GradientBoostingClassifier, RandomForestClassifier, AdaBoostClassifier\r\n",
        "from xgboost import XGBClassifier\r\n",
        "from lightgbm import LGBMClassifier\r\n",
        "from sklearn.linear_model import LogisticRegression"
      ],
      "execution_count": 41,
      "outputs": []
    },
    {
      "cell_type": "code",
      "metadata": {
        "id": "28Tl4Rv_MS34"
      },
      "source": [
        "from sklearn.metrics import f1_score, classification_report"
      ],
      "execution_count": 42,
      "outputs": []
    },
    {
      "cell_type": "code",
      "metadata": {
        "id": "4y-aXoISMRSk"
      },
      "source": [
        "def model_selection(x_train_, x_val, y_train_, y_val, model):\r\n",
        "  model = model()\r\n",
        "  model.fit(x_train_, y_train_)\r\n",
        "\r\n",
        "  pred = model.predict(x_val)\r\n",
        "\r\n",
        "  f1 = f1_score(y_val, pred)\r\n",
        "  report = classification_report(y_val, pred)\r\n",
        "  train_score = model.score(x_train_, y_train_)\r\n",
        "  val_score = model.score(x_val, y_val)\r\n",
        "\r\n",
        "  print('F1 Score:', f1*100)\r\n",
        "  print('\\n')\r\n",
        "  print('Classification report:', report)\r\n",
        "  print('\\n')\r\n",
        "  print('Train Score:', train_score*100)\r\n",
        "  print('\\n')\r\n",
        "  print('Val Score:', val_score*100)\r\n",
        "  print('\\n')\r\n",
        "  print('Is overfitting:', True if train_score>val_score else False)\r\n",
        "  print('\\n')\r\n",
        "  print('Overfitting by:',train_score*100-val_score*100)"
      ],
      "execution_count": 50,
      "outputs": []
    },
    {
      "cell_type": "code",
      "metadata": {
        "colab": {
          "base_uri": "https://localhost:8080/"
        },
        "id": "co2i4RofNG0O",
        "outputId": "b801d368-6b1d-4bde-aa32-a530859eeb51"
      },
      "source": [
        "extratrees = model_selection(x_train_, x_val, y_train_, y_val, ExtraTreesClassifier)\r\n",
        "extratrees"
      ],
      "execution_count": 51,
      "outputs": [
        {
          "output_type": "stream",
          "text": [
            "F1 Score: 98.14814814814815\n",
            "\n",
            "\n",
            "Classification report:               precision    recall  f1-score   support\n",
            "\n",
            "           0       0.96      1.00      0.98        48\n",
            "           1       1.00      0.96      0.98        55\n",
            "\n",
            "    accuracy                           0.98       103\n",
            "   macro avg       0.98      0.98      0.98       103\n",
            "weighted avg       0.98      0.98      0.98       103\n",
            "\n",
            "\n",
            "\n",
            "Train Score: 100.0\n",
            "\n",
            "\n",
            "Val Score: 98.05825242718447\n",
            "\n",
            "\n",
            "Is overfitting: True\n",
            "\n",
            "\n",
            "Overfitting by: 1.9417475728155296\n"
          ],
          "name": "stdout"
        }
      ]
    },
    {
      "cell_type": "code",
      "metadata": {
        "colab": {
          "base_uri": "https://localhost:8080/"
        },
        "id": "g2cUIQCBNPqg",
        "outputId": "9e3654a0-0187-4090-c1bd-f3d47d759cc3"
      },
      "source": [
        "gradient = model_selection(x_train_, x_val, y_train_, y_val, GradientBoostingClassifier)\r\n",
        "gradient"
      ],
      "execution_count": 52,
      "outputs": [
        {
          "output_type": "stream",
          "text": [
            "F1 Score: 93.33333333333333\n",
            "\n",
            "\n",
            "Classification report:               precision    recall  f1-score   support\n",
            "\n",
            "           0       0.89      0.98      0.93        48\n",
            "           1       0.98      0.89      0.93        55\n",
            "\n",
            "    accuracy                           0.93       103\n",
            "   macro avg       0.93      0.94      0.93       103\n",
            "weighted avg       0.94      0.93      0.93       103\n",
            "\n",
            "\n",
            "\n",
            "Train Score: 99.26650366748166\n",
            "\n",
            "\n",
            "Val Score: 93.20388349514563\n",
            "\n",
            "\n",
            "Is overfitting: True\n",
            "\n",
            "\n",
            "Overfitting by: 6.062620172336025\n"
          ],
          "name": "stdout"
        }
      ]
    },
    {
      "cell_type": "code",
      "metadata": {
        "colab": {
          "base_uri": "https://localhost:8080/"
        },
        "id": "iLm6peZXNZ44",
        "outputId": "184b6e6a-25b6-4419-b59a-0edba68d1223"
      },
      "source": [
        "randomforest = model_selection(x_train_, x_val, y_train_, y_val, RandomForestClassifier)\r\n",
        "randomforest"
      ],
      "execution_count": 53,
      "outputs": [
        {
          "output_type": "stream",
          "text": [
            "F1 Score: 98.14814814814815\n",
            "\n",
            "\n",
            "Classification report:               precision    recall  f1-score   support\n",
            "\n",
            "           0       0.96      1.00      0.98        48\n",
            "           1       1.00      0.96      0.98        55\n",
            "\n",
            "    accuracy                           0.98       103\n",
            "   macro avg       0.98      0.98      0.98       103\n",
            "weighted avg       0.98      0.98      0.98       103\n",
            "\n",
            "\n",
            "\n",
            "Train Score: 100.0\n",
            "\n",
            "\n",
            "Val Score: 98.05825242718447\n",
            "\n",
            "\n",
            "Is overfitting: True\n",
            "\n",
            "\n",
            "Overfitting by: 1.9417475728155296\n"
          ],
          "name": "stdout"
        }
      ]
    },
    {
      "cell_type": "code",
      "metadata": {
        "colab": {
          "base_uri": "https://localhost:8080/"
        },
        "id": "wnxC9mOtNl98",
        "outputId": "30a06770-7fa4-4d49-fce4-7733f0e5c9e5"
      },
      "source": [
        "ada = model_selection(x_train_, x_val, y_train_, y_val, AdaBoostClassifier)\r\n",
        "ada"
      ],
      "execution_count": 54,
      "outputs": [
        {
          "output_type": "stream",
          "text": [
            "F1 Score: 90.38461538461537\n",
            "\n",
            "\n",
            "Classification report:               precision    recall  f1-score   support\n",
            "\n",
            "           0       0.85      0.96      0.90        48\n",
            "           1       0.96      0.85      0.90        55\n",
            "\n",
            "    accuracy                           0.90       103\n",
            "   macro avg       0.91      0.91      0.90       103\n",
            "weighted avg       0.91      0.90      0.90       103\n",
            "\n",
            "\n",
            "\n",
            "Train Score: 94.37652811735941\n",
            "\n",
            "\n",
            "Val Score: 90.29126213592234\n",
            "\n",
            "\n",
            "Is overfitting: True\n",
            "\n",
            "\n",
            "Overfitting by: 4.085265981437075\n"
          ],
          "name": "stdout"
        }
      ]
    },
    {
      "cell_type": "code",
      "metadata": {
        "colab": {
          "base_uri": "https://localhost:8080/"
        },
        "id": "isQLCNM1Nw02",
        "outputId": "90e153c2-d2de-41fa-e53a-81592e71ebf0"
      },
      "source": [
        "xgb = model_selection(x_train_, x_val, y_train_, y_val, XGBClassifier)\r\n",
        "xgb"
      ],
      "execution_count": 55,
      "outputs": [
        {
          "output_type": "stream",
          "text": [
            "F1 Score: 93.20388349514563\n",
            "\n",
            "\n",
            "Classification report:               precision    recall  f1-score   support\n",
            "\n",
            "           0       0.87      1.00      0.93        48\n",
            "           1       1.00      0.87      0.93        55\n",
            "\n",
            "    accuracy                           0.93       103\n",
            "   macro avg       0.94      0.94      0.93       103\n",
            "weighted avg       0.94      0.93      0.93       103\n",
            "\n",
            "\n",
            "\n",
            "Train Score: 98.0440097799511\n",
            "\n",
            "\n",
            "Val Score: 93.20388349514563\n",
            "\n",
            "\n",
            "Is overfitting: True\n",
            "\n",
            "\n",
            "Overfitting by: 4.840126284805464\n"
          ],
          "name": "stdout"
        }
      ]
    },
    {
      "cell_type": "code",
      "metadata": {
        "colab": {
          "base_uri": "https://localhost:8080/"
        },
        "id": "7XwVCjkiN2WN",
        "outputId": "54ec1760-6226-4fd0-b918-eee7d91475ee"
      },
      "source": [
        "lgbm = model_selection(x_train_, x_val, y_train_, y_val, LGBMClassifier)\r\n",
        "lgbm"
      ],
      "execution_count": 56,
      "outputs": [
        {
          "output_type": "stream",
          "text": [
            "F1 Score: 95.32710280373831\n",
            "\n",
            "\n",
            "Classification report:               precision    recall  f1-score   support\n",
            "\n",
            "           0       0.92      0.98      0.95        48\n",
            "           1       0.98      0.93      0.95        55\n",
            "\n",
            "    accuracy                           0.95       103\n",
            "   macro avg       0.95      0.95      0.95       103\n",
            "weighted avg       0.95      0.95      0.95       103\n",
            "\n",
            "\n",
            "\n",
            "Train Score: 100.0\n",
            "\n",
            "\n",
            "Val Score: 95.14563106796116\n",
            "\n",
            "\n",
            "Is overfitting: True\n",
            "\n",
            "\n",
            "Overfitting by: 4.854368932038838\n"
          ],
          "name": "stdout"
        }
      ]
    },
    {
      "cell_type": "code",
      "metadata": {
        "colab": {
          "base_uri": "https://localhost:8080/"
        },
        "id": "Nf6jbmb1N8qW",
        "outputId": "83b6b6ce-98d9-451d-bc5a-f585dbf472ae"
      },
      "source": [
        "logistic = model_selection(x_train_, x_val, y_train_, y_val, LogisticRegression)\r\n",
        "logistic"
      ],
      "execution_count": 57,
      "outputs": [
        {
          "output_type": "stream",
          "text": [
            "F1 Score: 90.38461538461537\n",
            "\n",
            "\n",
            "Classification report:               precision    recall  f1-score   support\n",
            "\n",
            "           0       0.85      0.96      0.90        48\n",
            "           1       0.96      0.85      0.90        55\n",
            "\n",
            "    accuracy                           0.90       103\n",
            "   macro avg       0.91      0.91      0.90       103\n",
            "weighted avg       0.91      0.90      0.90       103\n",
            "\n",
            "\n",
            "\n",
            "Train Score: 92.90953545232273\n",
            "\n",
            "\n",
            "Val Score: 90.29126213592234\n",
            "\n",
            "\n",
            "Is overfitting: True\n",
            "\n",
            "\n",
            "Overfitting by: 2.6182733164003906\n"
          ],
          "name": "stdout"
        }
      ]
    },
    {
      "cell_type": "markdown",
      "metadata": {
        "id": "t_8F_nC0ON6J"
      },
      "source": [
        "I will use ExtraTreesClassifier here cuz it has a goof f1 score and the overfitting rate is the lowest"
      ]
    },
    {
      "cell_type": "markdown",
      "metadata": {
        "id": "JjPy8LrnOXc_"
      },
      "source": [
        "**Model Building and Training**"
      ]
    },
    {
      "cell_type": "code",
      "metadata": {
        "colab": {
          "base_uri": "https://localhost:8080/"
        },
        "id": "aWl6t2jtOEnM",
        "outputId": "ede5f6e5-3554-4147-a537-f69dade5bb0b"
      },
      "source": [
        "model = ExtraTreesClassifier()\r\n",
        "model.fit(x_train, y_train)"
      ],
      "execution_count": 58,
      "outputs": [
        {
          "output_type": "execute_result",
          "data": {
            "text/plain": [
              "ExtraTreesClassifier(bootstrap=False, ccp_alpha=0.0, class_weight=None,\n",
              "                     criterion='gini', max_depth=None, max_features='auto',\n",
              "                     max_leaf_nodes=None, max_samples=None,\n",
              "                     min_impurity_decrease=0.0, min_impurity_split=None,\n",
              "                     min_samples_leaf=1, min_samples_split=2,\n",
              "                     min_weight_fraction_leaf=0.0, n_estimators=100,\n",
              "                     n_jobs=None, oob_score=False, random_state=None, verbose=0,\n",
              "                     warm_start=False)"
            ]
          },
          "metadata": {
            "tags": []
          },
          "execution_count": 58
        }
      ]
    },
    {
      "cell_type": "markdown",
      "metadata": {
        "id": "N0hks4DxOgp4"
      },
      "source": [
        "**Predictions**"
      ]
    },
    {
      "cell_type": "code",
      "metadata": {
        "colab": {
          "base_uri": "https://localhost:8080/"
        },
        "id": "LYbWfrYiOfQT",
        "outputId": "e67dad1b-1bfe-4b20-e6ad-ce28a6e2db59"
      },
      "source": [
        "pred = model.predict(x_test)\r\n",
        "pred"
      ],
      "execution_count": 59,
      "outputs": [
        {
          "output_type": "execute_result",
          "data": {
            "text/plain": [
              "array([0, 0, 0, 1, 1, 0, 1, 0, 1, 1, 0, 0, 0, 1, 0, 0, 1, 1, 0, 0, 1, 1,\n",
              "       1, 0, 0, 0, 1, 1, 1, 0, 1, 1, 1, 1, 1, 0, 1, 1, 1, 1, 0, 0, 0, 0,\n",
              "       0, 0, 1, 1, 1, 0, 1, 0, 0, 1, 1, 0, 0, 0, 0, 0, 0, 1, 0, 1, 0, 0,\n",
              "       1, 0, 0, 1, 0, 1, 1, 0, 1, 0, 1, 0, 0, 0, 1, 0, 1, 0, 1, 0, 0, 0,\n",
              "       0, 0, 1, 1, 1, 0, 0, 0, 0, 0, 1, 1, 0, 1, 0, 1, 1, 1, 1, 0, 0, 0,\n",
              "       0, 1, 0, 1, 0, 1, 0, 0, 1, 0, 0, 0, 0, 0, 1, 0, 0, 1])"
            ]
          },
          "metadata": {
            "tags": []
          },
          "execution_count": 59
        }
      ]
    },
    {
      "cell_type": "markdown",
      "metadata": {
        "id": "xb-KTZXyOmYQ"
      },
      "source": [
        "**Precision, Recall, Accuracy and AUC check**"
      ]
    },
    {
      "cell_type": "code",
      "metadata": {
        "id": "D7SJpUnGOyPK"
      },
      "source": [
        "from sklearn.metrics import roc_auc_score"
      ],
      "execution_count": 62,
      "outputs": []
    },
    {
      "cell_type": "code",
      "metadata": {
        "colab": {
          "base_uri": "https://localhost:8080/"
        },
        "id": "EkgVohBSOlGs",
        "outputId": "80a34a64-cef1-4fdb-a7a4-d1f31b2782f2"
      },
      "source": [
        "f1 = f1_score(y_test, pred)\r\n",
        "f1*100"
      ],
      "execution_count": 60,
      "outputs": [
        {
          "output_type": "execute_result",
          "data": {
            "text/plain": [
              "97.2972972972973"
            ]
          },
          "metadata": {
            "tags": []
          },
          "execution_count": 60
        }
      ]
    },
    {
      "cell_type": "code",
      "metadata": {
        "colab": {
          "base_uri": "https://localhost:8080/",
          "height": 69
        },
        "id": "GkpggjKZOtha",
        "outputId": "4a3a5e2d-db36-4321-a896-ab424f70adc3"
      },
      "source": [
        "classification_report(y_test, pred)"
      ],
      "execution_count": 61,
      "outputs": [
        {
          "output_type": "execute_result",
          "data": {
            "application/vnd.google.colaboratory.intrinsic+json": {
              "type": "string"
            },
            "text/plain": [
              "'              precision    recall  f1-score   support\\n\\n           0       0.99      0.97      0.98        73\\n           1       0.96      0.98      0.97        55\\n\\n    accuracy                           0.98       128\\n   macro avg       0.98      0.98      0.98       128\\nweighted avg       0.98      0.98      0.98       128\\n'"
            ]
          },
          "metadata": {
            "tags": []
          },
          "execution_count": 61
        }
      ]
    },
    {
      "cell_type": "code",
      "metadata": {
        "colab": {
          "base_uri": "https://localhost:8080/"
        },
        "id": "K5SrPSF4OwYq",
        "outputId": "bcc873ad-86f7-4e1d-8a35-8b924861b941"
      },
      "source": [
        "AUC = roc_auc_score(y_test, pred)\r\n",
        "AUC*100"
      ],
      "execution_count": 63,
      "outputs": [
        {
          "output_type": "execute_result",
          "data": {
            "text/plain": [
              "97.72104607721046"
            ]
          },
          "metadata": {
            "tags": []
          },
          "execution_count": 63
        }
      ]
    },
    {
      "cell_type": "markdown",
      "metadata": {
        "id": "F9WZwe9MPB4g"
      },
      "source": [
        "**Checking for overfitting**"
      ]
    },
    {
      "cell_type": "code",
      "metadata": {
        "colab": {
          "base_uri": "https://localhost:8080/"
        },
        "id": "s2AfwgobO_83",
        "outputId": "5e6ccebb-f7b7-4be8-af35-6fb47bba9de1"
      },
      "source": [
        "train_score = model.score(x_train, y_train)\r\n",
        "test_score = model.score(x_test, y_test)\r\n",
        "\r\n",
        "print('Overfitting by:', train_score*100-test_score*100)"
      ],
      "execution_count": 64,
      "outputs": [
        {
          "output_type": "stream",
          "text": [
            "Overfitting by: 2.34375\n"
          ],
          "name": "stdout"
        }
      ]
    },
    {
      "cell_type": "code",
      "metadata": {
        "id": "Kb0tY231PM1e"
      },
      "source": [
        ""
      ],
      "execution_count": null,
      "outputs": []
    }
  ]
}